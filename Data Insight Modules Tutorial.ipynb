{
 "cells": [
  {
   "cell_type": "markdown",
   "id": "a0d9fedf",
   "metadata": {},
   "source": [
    "Built-in modules example (Math Module)"
   ]
  },
  {
   "cell_type": "markdown",
   "id": "4c6f3c01",
   "metadata": {},
   "source": [
    "Calculate the area of a circle (pi value exists in the math module)"
   ]
  },
  {
   "cell_type": "code",
   "execution_count": 1,
   "id": "e8c56724",
   "metadata": {},
   "outputs": [],
   "source": [
    "import math"
   ]
  },
  {
   "cell_type": "code",
   "execution_count": 3,
   "id": "70cbd7a2",
   "metadata": {},
   "outputs": [
    {
     "name": "stdout",
     "output_type": "stream",
     "text": [
      "78.53981633974483\n"
     ]
    }
   ],
   "source": [
    "s = 5\n",
    "area = math.pi * s * s\n",
    "print(area)"
   ]
  },
  {
   "cell_type": "markdown",
   "id": "8c0c1f4e",
   "metadata": {},
   "source": [
    "Built-in module example (Date and time)"
   ]
  },
  {
   "cell_type": "code",
   "execution_count": 4,
   "id": "f354f17c",
   "metadata": {},
   "outputs": [
    {
     "name": "stdout",
     "output_type": "stream",
     "text": [
      "2021-10-04 12:04:34.217884\n"
     ]
    }
   ],
   "source": [
    "import datetime\n",
    "\n",
    "x = datetime.datetime.now()\n",
    "print(x)\n"
   ]
  },
  {
   "cell_type": "code",
   "execution_count": 30,
   "id": "33eb5fbb",
   "metadata": {},
   "outputs": [
    {
     "name": "stdout",
     "output_type": "stream",
     "text": [
      "Requirement already satisfied: ipynb in c:\\users\\lenono\\anaconda3\\lib\\site-packages (0.5.1)\n"
     ]
    }
   ],
   "source": [
    "!pip install ipynb"
   ]
  },
  {
   "cell_type": "code",
   "execution_count": 31,
   "id": "f98f75e6",
   "metadata": {},
   "outputs": [],
   "source": [
    "from ipynb.fs.full.Functionstutorialcheckpoint import *"
   ]
  },
  {
   "cell_type": "code",
   "execution_count": 32,
   "id": "a61de49f",
   "metadata": {},
   "outputs": [
    {
     "data": {
      "text/plain": [
       "'Hello Joy I wanna play a game!'"
      ]
     },
     "execution_count": 32,
     "metadata": {},
     "output_type": "execute_result"
    }
   ],
   "source": [
    "greeter('Joy')\n"
   ]
  },
  {
   "cell_type": "markdown",
   "id": "9778f65b",
   "metadata": {},
   "source": [
    "Renaming the module"
   ]
  },
  {
   "cell_type": "code",
   "execution_count": null,
   "id": "a087322b",
   "metadata": {},
   "outputs": [],
   "source": [
    "import pandas as pd"
   ]
  },
  {
   "cell_type": "markdown",
   "id": "dbc86fa0",
   "metadata": {},
   "source": [
    "Discover the contents of a module"
   ]
  },
  {
   "cell_type": "code",
   "execution_count": 33,
   "id": "37abe99a",
   "metadata": {},
   "outputs": [
    {
     "name": "stdout",
     "output_type": "stream",
     "text": [
      "['__doc__', '__loader__', '__name__', '__package__', '__spec__', 'acos', 'acosh', 'asin', 'asinh', 'atan', 'atan2', 'atanh', 'ceil', 'comb', 'copysign', 'cos', 'cosh', 'degrees', 'dist', 'e', 'erf', 'erfc', 'exp', 'expm1', 'fabs', 'factorial', 'floor', 'fmod', 'frexp', 'fsum', 'gamma', 'gcd', 'hypot', 'inf', 'isclose', 'isfinite', 'isinf', 'isnan', 'isqrt', 'ldexp', 'lgamma', 'log', 'log10', 'log1p', 'log2', 'modf', 'nan', 'perm', 'pi', 'pow', 'prod', 'radians', 'remainder', 'sin', 'sinh', 'sqrt', 'tan', 'tanh', 'tau', 'trunc']\n"
     ]
    }
   ],
   "source": [
    "cr= dir(math)\n",
    "print(cr)"
   ]
  },
  {
   "cell_type": "code",
   "execution_count": null,
   "id": "6e0f5f85",
   "metadata": {},
   "outputs": [],
   "source": []
  }
 ],
 "metadata": {
  "kernelspec": {
   "display_name": "Python 3",
   "language": "python",
   "name": "python3"
  },
  "language_info": {
   "codemirror_mode": {
    "name": "ipython",
    "version": 3
   },
   "file_extension": ".py",
   "mimetype": "text/x-python",
   "name": "python",
   "nbconvert_exporter": "python",
   "pygments_lexer": "ipython3",
   "version": "3.8.8"
  }
 },
 "nbformat": 4,
 "nbformat_minor": 5
}
